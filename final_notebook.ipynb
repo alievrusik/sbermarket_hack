{
 "cells": [
  {
   "cell_type": "code",
   "execution_count": 1,
   "metadata": {},
   "outputs": [],
   "source": [
    "import pandas as pd\n",
    "import glob\n",
    "import numpy as np\n",
    "import matplotlib.pyplot as plt\n",
    "import gc\n",
    "from numba import njit\n",
    "import tqdm\n",
    "import copy\n",
    "import datetime\n",
    "%matplotlib inline\n"
   ]
  },
  {
   "cell_type": "code",
   "execution_count": 2,
   "metadata": {},
   "outputs": [],
   "source": [
    "ss = pd.read_csv('sample_submission.csv')"
   ]
  },
  {
   "cell_type": "code",
   "execution_count": 3,
   "metadata": {},
   "outputs": [],
   "source": [
    "city_df = pd.read_csv('tab_6_city.csv')"
   ]
  },
  {
   "cell_type": "code",
   "execution_count": 4,
   "metadata": {},
   "outputs": [],
   "source": [
    "users_df = pd.read_csv('./kaggle_tab_1345/tab_4_user_profiles.csv', parse_dates=['bdate'])"
   ]
  },
  {
   "cell_type": "code",
   "execution_count": 5,
   "metadata": {},
   "outputs": [],
   "source": [
    "categories_df = pd.read_csv('./kaggle_tab_1345/tab_3_categories.csv')"
   ]
  },
  {
   "cell_type": "code",
   "execution_count": 6,
   "metadata": {},
   "outputs": [],
   "source": [
    "product_props_df = pd.read_csv('./kaggle_tab_1345/tab_5_product_properties.csv')"
   ]
  },
  {
   "cell_type": "code",
   "execution_count": null,
   "metadata": {},
   "outputs": [],
   "source": []
  },
  {
   "cell_type": "code",
   "execution_count": null,
   "metadata": {},
   "outputs": [],
   "source": []
  },
  {
   "cell_type": "code",
   "execution_count": 7,
   "metadata": {},
   "outputs": [],
   "source": [
    "orders_df = pd.read_csv('./kaggle_tab_1345/tab_1_orders.csv', parse_dates=['order_created_time'])\n",
    "orders_df = orders_df[orders_df.user_id.isin(ss.Id)]\n",
    "orders_df = orders_df[orders_df.order_id.map(orders_df.order_id.value_counts() <= 1)]"
   ]
  },
  {
   "cell_type": "code",
   "execution_count": 8,
   "metadata": {},
   "outputs": [
    {
     "data": {
      "text/plain": [
       "0"
      ]
     },
     "execution_count": 8,
     "metadata": {},
     "output_type": "execute_result"
    }
   ],
   "source": [
    "products_tables = []\n",
    "\n",
    "for product_table_name in sorted(glob.glob('./sbermarket*/*.csv')):\n",
    "    products_tables.append(pd.read_csv(product_table_name))\n",
    "    \n",
    "\n",
    "product_df = pd.concat(products_tables)\n",
    "\n",
    "del products_tables\n",
    "gc.collect()\n",
    "\n",
    "product_df = product_df[product_df.user_id.isin(ss.Id)]\n"
   ]
  },
  {
   "cell_type": "code",
   "execution_count": null,
   "metadata": {},
   "outputs": [],
   "source": []
  },
  {
   "cell_type": "code",
   "execution_count": 11,
   "metadata": {},
   "outputs": [],
   "source": [
    "product_df = product_df.merge(orders_df, how='left', on='order_id')\n",
    "\n",
    "product_df = product_df.rename(columns={'user_id_x':'user_id'})\n",
    "product_df.drop(labels='user_id_y', axis=1, inplace=True)\n"
   ]
  },
  {
   "cell_type": "code",
   "execution_count": 12,
   "metadata": {},
   "outputs": [
    {
     "name": "stderr",
     "output_type": "stream",
     "text": [
      "<ipython-input-12-67018a050a2e>:4: SettingWithCopyWarning: \n",
      "A value is trying to be set on a copy of a slice from a DataFrame\n",
      "\n",
      "See the caveats in the documentation: https://pandas.pydata.org/pandas-docs/stable/user_guide/indexing.html#returning-a-view-versus-a-copy\n",
      "  product_df.retailer[\n"
     ]
    },
    {
     "data": {
      "text/plain": [
       "0"
      ]
     },
     "execution_count": 12,
     "metadata": {},
     "output_type": "execute_result"
    }
   ],
   "source": [
    "\n",
    "product_df = product_df.merge(users_df, how='left', on='user_id')\n",
    "product_df.retailer = product_df.retailer.fillna('Unknown')\n",
    "\n",
    "product_df.retailer[\n",
    "    (product_df.retailer != 'Лента') & (product_df.retailer != 'METRO') & (product_df.retailer != 'Ашан') &  (product_df.retailer != 'Unknown') \n",
    "] = 'SMALL'\n",
    "\n",
    "product_df_2 = product_df.set_index(['order_id', 'product_id'])\n",
    "product_df = product_df_2[~product_df_2.index.duplicated()].reset_index()\n",
    "\n",
    "del product_df_2\n",
    "gc.collect()\n",
    "#product_df = product_df[product_df.product_id.map(product_df.product_id.value_counts()) > 30]  #? заменить на макса\n"
   ]
  },
  {
   "cell_type": "code",
   "execution_count": 13,
   "metadata": {},
   "outputs": [],
   "source": [
    "# prod_statistic = product_df.groupby(['user_id','product_id']).order_created_time.nunique()\n",
    "# key_prod_id = prod_statistic[prod_statistic.values >= 3].reset_index().product_id.unique()\n",
    "# product_df = product_df[product_df.product_id.isin(key_prod_id)]"
   ]
  },
  {
   "cell_type": "code",
   "execution_count": null,
   "metadata": {},
   "outputs": [],
   "source": []
  },
  {
   "cell_type": "code",
   "execution_count": 14,
   "metadata": {},
   "outputs": [],
   "source": [
    "product_df.store_id.fillna(-1, inplace=True)\n",
    "main_retailer_for_user = product_df.groupby('user_id').store_id.agg(lambda x: x.value_counts().index[0])\n",
    "\n",
    "\n",
    "top_products = product_df.groupby('store_id').product_id.value_counts()\n",
    "retail_list = list(product_df.store_id.unique())\n",
    "\n",
    "top_products_by_retail = {retail: list(top_products[retail][:50].index.values) for retail in retail_list}"
   ]
  },
  {
   "cell_type": "code",
   "execution_count": 15,
   "metadata": {},
   "outputs": [],
   "source": [
    "top_products = product_df.product_id.value_counts()\n",
    "tp = list(top_products[:50].index)"
   ]
  },
  {
   "cell_type": "code",
   "execution_count": null,
   "metadata": {},
   "outputs": [],
   "source": []
  },
  {
   "cell_type": "code",
   "execution_count": 16,
   "metadata": {},
   "outputs": [],
   "source": [
    "from scipy.sparse import csr_matrix\n",
    "from pandas.api.types import CategoricalDtype\n",
    "\n",
    "number_of_orders_per_user = product_df.groupby('user_id').order_id.nunique()\n",
    "product_df['ones'] = 1/number_of_orders_per_user[product_df.user_id].values\n",
    "\n",
    "#product_df['ones'] = 1\n",
    "\n",
    "\n",
    "user = CategoricalDtype(sorted(product_df.user_id.unique()), ordered=True)\n",
    "product = CategoricalDtype(sorted(product_df.product_id.unique()), ordered=True)\n",
    "\n",
    "row = product_df.user_id.astype(user).cat.codes\n",
    "col = product_df.product_id.astype(product).cat.codes\n",
    "sparse_matrix = csr_matrix((product_df[\"ones\"], (row, col)), \\\n",
    "                           shape=(user.categories.size, product.categories.size))\n",
    "\n",
    "user_to_idx = pd.Series(index=user.categories, data=np.arange(len(user.categories)))"
   ]
  },
  {
   "cell_type": "code",
   "execution_count": 17,
   "metadata": {},
   "outputs": [
    {
     "name": "stderr",
     "output_type": "stream",
     "text": [
      "WARNING:root:OpenBLAS detected. Its highly recommend to set the environment variable 'export OPENBLAS_NUM_THREADS=1' to disable its internal multithreading\n"
     ]
    },
    {
     "data": {
      "application/vnd.jupyter.widget-view+json": {
       "model_id": "62d5a4901a9c40159b197e8498d43dd8",
       "version_major": 2,
       "version_minor": 0
      },
      "text/plain": [
       "HBox(children=(FloatProgress(value=0.0, max=15.0), HTML(value='')))"
      ]
     },
     "metadata": {},
     "output_type": "display_data"
    },
    {
     "name": "stdout",
     "output_type": "stream",
     "text": [
      "\n"
     ]
    }
   ],
   "source": [
    "import implicit\n",
    "\n",
    "# initialize a model\n",
    "model = implicit.als.AlternatingLeastSquares(factors=256)\n",
    "\n",
    "# train the model on a sparse matrix of item/user/confidence weights\n",
    "model.fit(sparse_matrix.T.tocsr())\n",
    "\n",
    "# recommend items for a user\n",
    "#user_items = sparse_matrix.T.tocsr()\n",
    "#recommendations = model.recommend(0, user_items)\n",
    "\n",
    "# find related items\n",
    "#related = model.similar_items(itemid)"
   ]
  },
  {
   "cell_type": "code",
   "execution_count": null,
   "metadata": {},
   "outputs": [],
   "source": []
  },
  {
   "cell_type": "code",
   "execution_count": 18,
   "metadata": {},
   "outputs": [],
   "source": [
    "user_product_series = product_df.groupby('user_id').product_id.value_counts()\n",
    "user_product_series = user_product_series.groupby('user_id').head(50)\n",
    "user_product_lists = user_product_series.index.values"
   ]
  },
  {
   "cell_type": "code",
   "execution_count": null,
   "metadata": {},
   "outputs": [],
   "source": []
  },
  {
   "cell_type": "code",
   "execution_count": null,
   "metadata": {},
   "outputs": [],
   "source": []
  },
  {
   "cell_type": "code",
   "execution_count": 20,
   "metadata": {},
   "outputs": [],
   "source": [
    "def get_top_products(lists):\n",
    "    us_prod_dict = {}\n",
    "\n",
    "    for i in tqdm.tqdm(range(len(lists))):\n",
    "        u, p = lists[i]\n",
    "        try:\n",
    "            us_prod_dict[u].append(p)\n",
    "        except:\n",
    "            us_prod_dict[u] = [p]\n",
    "    \n",
    "    for u in tqdm.tqdm(us_prod_dict):\n",
    "        len_us = len(us_prod_dict[u])\n",
    "        if len_us < 50:\n",
    "            sub_tp = [x for x in top_products_by_retail[main_retailer_for_user[u]] if x not in us_prod_dict[u]]\n",
    "            us_prod_dict[u] = us_prod_dict[u] + sub_tp[:50-len_us]\n",
    "            \n",
    "            assert len(us_prod_dict[u]) == len(set(us_prod_dict[u])), u\n",
    "            \n",
    "    for u in us_prod_dict:\n",
    "        us_prod_dict[u] = ' '.join(map(str, us_prod_dict[u]))\n",
    "    return us_prod_dict"
   ]
  },
  {
   "cell_type": "code",
   "execution_count": 21,
   "metadata": {},
   "outputs": [],
   "source": [
    "def get_top_products_svd(lists):\n",
    "    us_prod_dict = {}\n",
    "\n",
    "    for i in tqdm.tqdm(range(len(lists))):\n",
    "        u, p = lists[i]\n",
    "        try:\n",
    "            us_prod_dict[u].append(p)\n",
    "        except:\n",
    "            us_prod_dict[u] = [p]\n",
    "    \n",
    "    for u in tqdm.tqdm(us_prod_dict):\n",
    "        len_us = len(us_prod_dict[u])\n",
    "        if len_us < 50:\n",
    "            recommends = list(product.categories[[it[0] for it in model.recommend(user_to_idx[u], sparse_matrix, N=50)]].values)\n",
    "            sub_tp = [x for x in recommends if x not in us_prod_dict[u]]\n",
    "            us_prod_dict[u] = us_prod_dict[u] + sub_tp[:50-len_us]\n",
    "        \n",
    "    for u in us_prod_dict:\n",
    "        us_prod_dict[u] = ' '.join(map(str, us_prod_dict[u]))\n",
    "    return us_prod_dict"
   ]
  },
  {
   "cell_type": "code",
   "execution_count": 22,
   "metadata": {},
   "outputs": [
    {
     "name": "stderr",
     "output_type": "stream",
     "text": [
      "100%|██████████| 4489771/4489771 [00:01<00:00, 3546674.98it/s]\n",
      "100%|██████████| 107068/107068 [02:23<00:00, 744.26it/s]\n"
     ]
    }
   ],
   "source": [
    "us_prod_dict = get_top_products_svd(user_product_lists)"
   ]
  },
  {
   "cell_type": "code",
   "execution_count": 23,
   "metadata": {},
   "outputs": [
    {
     "name": "stdout",
     "output_type": "stream",
     "text": [
      "100%|██████████████████████████████████████| 32.2M/32.2M [00:07<00:00, 4.44MB/s]\n",
      "Successfully submitted to Predict products in the next order "
     ]
    }
   ],
   "source": [
    "sub = pd.DataFrame(index = us_prod_dict.keys(), data=us_prod_dict.values())\n",
    "sub = sub.reset_index()\n",
    "sub.columns = ss.columns\n",
    "sub.to_csv('baseline_submission_2.csv', index=False)\n",
    "\n",
    "!kaggle competitions submit -c test-recsys -f baseline_submission_2.csv -m \"Baseline model. ALS. Big table. Big model\""
   ]
  },
  {
   "cell_type": "code",
   "execution_count": null,
   "metadata": {},
   "outputs": [],
   "source": []
  },
  {
   "cell_type": "code",
   "execution_count": null,
   "metadata": {},
   "outputs": [],
   "source": []
  },
  {
   "cell_type": "code",
   "execution_count": null,
   "metadata": {},
   "outputs": [],
   "source": []
  },
  {
   "cell_type": "code",
   "execution_count": null,
   "metadata": {},
   "outputs": [],
   "source": []
  },
  {
   "cell_type": "code",
   "execution_count": null,
   "metadata": {},
   "outputs": [],
   "source": []
  },
  {
   "cell_type": "code",
   "execution_count": null,
   "metadata": {},
   "outputs": [],
   "source": []
  },
  {
   "cell_type": "code",
   "execution_count": null,
   "metadata": {},
   "outputs": [],
   "source": []
  },
  {
   "cell_type": "code",
   "execution_count": null,
   "metadata": {},
   "outputs": [],
   "source": []
  }
 ],
 "metadata": {
  "kernelspec": {
   "display_name": "core",
   "language": "python",
   "name": "core"
  },
  "language_info": {
   "codemirror_mode": {
    "name": "ipython",
    "version": 3
   },
   "file_extension": ".py",
   "mimetype": "text/x-python",
   "name": "python",
   "nbconvert_exporter": "python",
   "pygments_lexer": "ipython3",
   "version": "3.8.3"
  }
 },
 "nbformat": 4,
 "nbformat_minor": 4
}
